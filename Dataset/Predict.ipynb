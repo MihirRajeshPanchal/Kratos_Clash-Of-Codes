{
 "cells": [
  {
   "cell_type": "code",
   "execution_count": 53,
   "metadata": {},
   "outputs": [],
   "source": [
    "import pandas as pd\n",
    "import numpy as np"
   ]
  },
  {
   "cell_type": "code",
   "execution_count": 54,
   "metadata": {},
   "outputs": [],
   "source": [
    "df=pd.read_csv(\"users_analysis.csv\")"
   ]
  },
  {
   "cell_type": "code",
   "execution_count": 55,
   "metadata": {},
   "outputs": [
    {
     "data": {
      "text/plain": [
       "Index(['_id', 'bio', 'college', 'country', 'createdAt', 'dob', 'email',\n",
       "       'face_detection_probabilities', 'gender', 'height', 'insta_username',\n",
       "       'interests', 'is_habit_drink', 'is_habit_smoke', 'is_verified',\n",
       "       'mobile', 'name', 'status', 'type', 'updatedAt', 'verified_at',\n",
       "       'what_to_find', 'who_to_date', 'is_subscribed', 'age', 'liked_counts',\n",
       "       'disliked_counts', 'Score'],\n",
       "      dtype='object')"
      ]
     },
     "execution_count": 55,
     "metadata": {},
     "output_type": "execute_result"
    }
   ],
   "source": [
    "df.columns"
   ]
  },
  {
   "cell_type": "code",
   "execution_count": 56,
   "metadata": {},
   "outputs": [
    {
     "data": {
      "text/plain": [
       "(1405, 28)"
      ]
     },
     "execution_count": 56,
     "metadata": {},
     "output_type": "execute_result"
    }
   ],
   "source": [
    "df.shape"
   ]
  },
  {
   "cell_type": "code",
   "execution_count": 57,
   "metadata": {},
   "outputs": [],
   "source": [
    "from sklearn.preprocessing import LabelEncoder\n",
    "le = LabelEncoder()\n",
    "\n",
    "df['gender']=le.fit_transform(df['gender'])\n",
    "df['is_habit_drink']=le.fit_transform(df['is_habit_drink'])\n",
    "df['is_habit_smoke']=le.fit_transform(df['is_habit_smoke'])\n",
    "df['is_verified']=le.fit_transform(df['is_verified'])\n",
    "df['who_to_date']=le.fit_transform(df['who_to_date'])\n",
    "df['is_subscribed']=le.fit_transform(df['is_subscribed'])\n",
    "df.fillna(-1, inplace=True)"
   ]
  },
  {
   "cell_type": "code",
   "execution_count": 58,
   "metadata": {},
   "outputs": [],
   "source": [
    "x=df.drop(['_id','college','bio','country','dob','email','updatedAt','face_detection_probabilities','insta_username','createdAt','verified_at','interests','mobile','name','status','type','what_to_find','liked_counts','disliked_counts','Score'],axis=1)"
   ]
  },
  {
   "cell_type": "code",
   "execution_count": 59,
   "metadata": {},
   "outputs": [],
   "source": [
    "y=df['Score']"
   ]
  },
  {
   "cell_type": "code",
   "execution_count": 60,
   "metadata": {},
   "outputs": [],
   "source": [
    "from sklearn.model_selection import train_test_split\n",
    "\n",
    "x_train,x_test,y_train,y_test=train_test_split(x,y,train_size=0.3,random_state=0)"
   ]
  },
  {
   "cell_type": "code",
   "execution_count": 61,
   "metadata": {},
   "outputs": [
    {
     "data": {
      "text/plain": [
       "(984, 8)"
      ]
     },
     "execution_count": 61,
     "metadata": {},
     "output_type": "execute_result"
    }
   ],
   "source": [
    "x_test.shape"
   ]
  },
  {
   "cell_type": "code",
   "execution_count": 62,
   "metadata": {},
   "outputs": [
    {
     "data": {
      "text/plain": [
       "gender              2.0\n",
       "height            146.0\n",
       "is_habit_drink      0.0\n",
       "is_habit_smoke      0.0\n",
       "is_verified         0.0\n",
       "who_to_date         0.0\n",
       "is_subscribed       1.0\n",
       "age                21.0\n",
       "Name: 197, dtype: float64"
      ]
     },
     "execution_count": 62,
     "metadata": {},
     "output_type": "execute_result"
    }
   ],
   "source": [
    "x.iloc[197]"
   ]
  },
  {
   "cell_type": "code",
   "execution_count": 63,
   "metadata": {},
   "outputs": [
    {
     "data": {
      "text/html": [
       "<div>\n",
       "<style scoped>\n",
       "    .dataframe tbody tr th:only-of-type {\n",
       "        vertical-align: middle;\n",
       "    }\n",
       "\n",
       "    .dataframe tbody tr th {\n",
       "        vertical-align: top;\n",
       "    }\n",
       "\n",
       "    .dataframe thead th {\n",
       "        text-align: right;\n",
       "    }\n",
       "</style>\n",
       "<table border=\"1\" class=\"dataframe\">\n",
       "  <thead>\n",
       "    <tr style=\"text-align: right;\">\n",
       "      <th></th>\n",
       "      <th>gender</th>\n",
       "      <th>height</th>\n",
       "      <th>is_habit_drink</th>\n",
       "      <th>is_habit_smoke</th>\n",
       "      <th>is_verified</th>\n",
       "      <th>who_to_date</th>\n",
       "      <th>is_subscribed</th>\n",
       "      <th>age</th>\n",
       "    </tr>\n",
       "  </thead>\n",
       "  <tbody>\n",
       "    <tr>\n",
       "      <th>654</th>\n",
       "      <td>3</td>\n",
       "      <td>-1.00</td>\n",
       "      <td>3</td>\n",
       "      <td>3</td>\n",
       "      <td>0</td>\n",
       "      <td>4</td>\n",
       "      <td>1</td>\n",
       "      <td>-1.0</td>\n",
       "    </tr>\n",
       "    <tr>\n",
       "      <th>312</th>\n",
       "      <td>1</td>\n",
       "      <td>167.64</td>\n",
       "      <td>2</td>\n",
       "      <td>0</td>\n",
       "      <td>0</td>\n",
       "      <td>1</td>\n",
       "      <td>0</td>\n",
       "      <td>27.0</td>\n",
       "    </tr>\n",
       "    <tr>\n",
       "      <th>224</th>\n",
       "      <td>0</td>\n",
       "      <td>5.50</td>\n",
       "      <td>0</td>\n",
       "      <td>0</td>\n",
       "      <td>0</td>\n",
       "      <td>2</td>\n",
       "      <td>0</td>\n",
       "      <td>22.0</td>\n",
       "    </tr>\n",
       "    <tr>\n",
       "      <th>608</th>\n",
       "      <td>1</td>\n",
       "      <td>170.00</td>\n",
       "      <td>2</td>\n",
       "      <td>2</td>\n",
       "      <td>0</td>\n",
       "      <td>1</td>\n",
       "      <td>1</td>\n",
       "      <td>23.0</td>\n",
       "    </tr>\n",
       "    <tr>\n",
       "      <th>1236</th>\n",
       "      <td>0</td>\n",
       "      <td>-1.00</td>\n",
       "      <td>0</td>\n",
       "      <td>0</td>\n",
       "      <td>0</td>\n",
       "      <td>2</td>\n",
       "      <td>0</td>\n",
       "      <td>20.0</td>\n",
       "    </tr>\n",
       "    <tr>\n",
       "      <th>...</th>\n",
       "      <td>...</td>\n",
       "      <td>...</td>\n",
       "      <td>...</td>\n",
       "      <td>...</td>\n",
       "      <td>...</td>\n",
       "      <td>...</td>\n",
       "      <td>...</td>\n",
       "      <td>...</td>\n",
       "    </tr>\n",
       "    <tr>\n",
       "      <th>1245</th>\n",
       "      <td>1</td>\n",
       "      <td>-1.00</td>\n",
       "      <td>3</td>\n",
       "      <td>3</td>\n",
       "      <td>0</td>\n",
       "      <td>1</td>\n",
       "      <td>1</td>\n",
       "      <td>22.0</td>\n",
       "    </tr>\n",
       "    <tr>\n",
       "      <th>519</th>\n",
       "      <td>0</td>\n",
       "      <td>-1.00</td>\n",
       "      <td>0</td>\n",
       "      <td>0</td>\n",
       "      <td>0</td>\n",
       "      <td>2</td>\n",
       "      <td>0</td>\n",
       "      <td>21.0</td>\n",
       "    </tr>\n",
       "    <tr>\n",
       "      <th>979</th>\n",
       "      <td>1</td>\n",
       "      <td>-1.00</td>\n",
       "      <td>0</td>\n",
       "      <td>0</td>\n",
       "      <td>1</td>\n",
       "      <td>1</td>\n",
       "      <td>1</td>\n",
       "      <td>22.0</td>\n",
       "    </tr>\n",
       "    <tr>\n",
       "      <th>969</th>\n",
       "      <td>0</td>\n",
       "      <td>-1.00</td>\n",
       "      <td>3</td>\n",
       "      <td>3</td>\n",
       "      <td>1</td>\n",
       "      <td>2</td>\n",
       "      <td>0</td>\n",
       "      <td>19.0</td>\n",
       "    </tr>\n",
       "    <tr>\n",
       "      <th>926</th>\n",
       "      <td>0</td>\n",
       "      <td>-1.00</td>\n",
       "      <td>3</td>\n",
       "      <td>3</td>\n",
       "      <td>0</td>\n",
       "      <td>2</td>\n",
       "      <td>0</td>\n",
       "      <td>22.0</td>\n",
       "    </tr>\n",
       "  </tbody>\n",
       "</table>\n",
       "<p>984 rows × 8 columns</p>\n",
       "</div>"
      ],
      "text/plain": [
       "      gender  height  is_habit_drink  is_habit_smoke  is_verified  \\\n",
       "654        3   -1.00               3               3            0   \n",
       "312        1  167.64               2               0            0   \n",
       "224        0    5.50               0               0            0   \n",
       "608        1  170.00               2               2            0   \n",
       "1236       0   -1.00               0               0            0   \n",
       "...      ...     ...             ...             ...          ...   \n",
       "1245       1   -1.00               3               3            0   \n",
       "519        0   -1.00               0               0            0   \n",
       "979        1   -1.00               0               0            1   \n",
       "969        0   -1.00               3               3            1   \n",
       "926        0   -1.00               3               3            0   \n",
       "\n",
       "      who_to_date  is_subscribed   age  \n",
       "654             4              1  -1.0  \n",
       "312             1              0  27.0  \n",
       "224             2              0  22.0  \n",
       "608             1              1  23.0  \n",
       "1236            2              0  20.0  \n",
       "...           ...            ...   ...  \n",
       "1245            1              1  22.0  \n",
       "519             2              0  21.0  \n",
       "979             1              1  22.0  \n",
       "969             2              0  19.0  \n",
       "926             2              0  22.0  \n",
       "\n",
       "[984 rows x 8 columns]"
      ]
     },
     "execution_count": 63,
     "metadata": {},
     "output_type": "execute_result"
    }
   ],
   "source": [
    "x_test"
   ]
  },
  {
   "cell_type": "code",
   "execution_count": 64,
   "metadata": {},
   "outputs": [
    {
     "data": {
      "text/plain": [
       "0       21.336364\n",
       "1       21.025000\n",
       "2       20.389076\n",
       "3       21.650000\n",
       "4       -1.000000\n",
       "          ...    \n",
       "1400    -1.000000\n",
       "1401    -1.000000\n",
       "1402    -1.000000\n",
       "1403    -1.000000\n",
       "1404    -1.000000\n",
       "Name: Score, Length: 1405, dtype: float64"
      ]
     },
     "execution_count": 64,
     "metadata": {},
     "output_type": "execute_result"
    }
   ],
   "source": [
    "y"
   ]
  },
  {
   "cell_type": "code",
   "execution_count": 65,
   "metadata": {},
   "outputs": [
    {
     "data": {
      "text/plain": [
       "654    -1.0\n",
       "312    -1.0\n",
       "224    -1.0\n",
       "608    -1.0\n",
       "1236   -1.0\n",
       "       ... \n",
       "1245   -1.0\n",
       "519    -1.0\n",
       "979    -1.0\n",
       "969    -1.0\n",
       "926    -1.0\n",
       "Name: Score, Length: 984, dtype: float64"
      ]
     },
     "execution_count": 65,
     "metadata": {},
     "output_type": "execute_result"
    }
   ],
   "source": [
    "y_test"
   ]
  },
  {
   "cell_type": "code",
   "execution_count": 66,
   "metadata": {},
   "outputs": [],
   "source": [
    "from sklearn.tree import DecisionTreeRegressor\n",
    "\n",
    "# Build decision tree\n",
    "model=DecisionTreeRegressor(max_depth=1)"
   ]
  },
  {
   "cell_type": "code",
   "execution_count": 67,
   "metadata": {},
   "outputs": [
    {
     "data": {
      "text/plain": [
       "array([-1.        , -1.        , -1.        , -1.        , -1.        ,\n",
       "       -1.        , -1.        ,  3.26130766, -1.        , -1.        ,\n",
       "       -1.        , -1.        , -1.        ,  3.26130766, -1.        ,\n",
       "       -1.        , -1.        , -1.        , -1.        ,  3.26130766,\n",
       "       -1.        , -1.        , -1.        , -1.        , -1.        ,\n",
       "       -1.        , -1.        , -1.        , -1.        ,  3.26130766,\n",
       "       -1.        , -1.        , -1.        , -1.        , -1.        ,\n",
       "       -1.        , -1.        ,  3.26130766, -1.        ,  3.26130766,\n",
       "       -1.        , -1.        , -1.        , -1.        , -1.        ,\n",
       "       -1.        , -1.        , -1.        , -1.        , -1.        ,\n",
       "       -1.        ,  3.26130766, -1.        , -1.        , -1.        ,\n",
       "       -1.        , -1.        , -1.        , -1.        , -1.        ,\n",
       "       -1.        , -1.        , -1.        , -1.        , -1.        ,\n",
       "       -1.        , -1.        , -1.        , -1.        , -1.        ,\n",
       "       -1.        , -1.        , -1.        , -1.        , -1.        ,\n",
       "       -1.        ,  3.26130766, -1.        , -1.        , -1.        ,\n",
       "       -1.        , -1.        , -1.        , -1.        , -1.        ,\n",
       "       -1.        , -1.        , -1.        , -1.        , -1.        ,\n",
       "       -1.        ,  3.26130766, -1.        , -1.        ,  3.26130766,\n",
       "       -1.        , -1.        , -1.        , -1.        , -1.        ,\n",
       "       -1.        , -1.        , -1.        , -1.        ,  3.26130766,\n",
       "       -1.        , -1.        , -1.        , -1.        , -1.        ,\n",
       "       -1.        , -1.        , -1.        , -1.        , -1.        ,\n",
       "       -1.        , -1.        , -1.        , -1.        , -1.        ,\n",
       "        3.26130766, -1.        , -1.        , -1.        , -1.        ,\n",
       "       -1.        , -1.        , -1.        , -1.        , -1.        ,\n",
       "       -1.        ,  3.26130766, -1.        , -1.        ,  3.26130766,\n",
       "       -1.        , -1.        , -1.        , -1.        ,  3.26130766,\n",
       "       -1.        , -1.        , -1.        , -1.        , -1.        ,\n",
       "       -1.        , -1.        , -1.        , -1.        , -1.        ,\n",
       "       -1.        , -1.        ,  3.26130766, -1.        , -1.        ,\n",
       "       -1.        , -1.        , -1.        , -1.        , -1.        ,\n",
       "       -1.        , -1.        ,  3.26130766,  3.26130766, -1.        ,\n",
       "       -1.        , -1.        , -1.        , -1.        , -1.        ,\n",
       "       -1.        , -1.        , -1.        , -1.        , -1.        ,\n",
       "       -1.        , -1.        , -1.        , -1.        , -1.        ,\n",
       "       -1.        , -1.        , -1.        , -1.        , -1.        ,\n",
       "       -1.        , -1.        , -1.        , -1.        ,  3.26130766,\n",
       "       -1.        , -1.        , -1.        , -1.        , -1.        ,\n",
       "       -1.        , -1.        , -1.        , -1.        , -1.        ,\n",
       "       -1.        , -1.        , -1.        , -1.        , -1.        ,\n",
       "        3.26130766, -1.        , -1.        , -1.        , -1.        ,\n",
       "       -1.        , -1.        , -1.        , -1.        , -1.        ,\n",
       "       -1.        , -1.        , -1.        , -1.        ,  3.26130766,\n",
       "        3.26130766, -1.        ,  3.26130766, -1.        , -1.        ,\n",
       "       -1.        , -1.        , -1.        , -1.        , -1.        ,\n",
       "       -1.        , -1.        , -1.        , -1.        , -1.        ,\n",
       "       -1.        ,  3.26130766, -1.        , -1.        , -1.        ,\n",
       "       -1.        ,  3.26130766, -1.        ,  3.26130766, -1.        ,\n",
       "       -1.        , -1.        , -1.        , -1.        , -1.        ,\n",
       "       -1.        , -1.        , -1.        , -1.        ,  3.26130766,\n",
       "       -1.        , -1.        ,  3.26130766, -1.        , -1.        ,\n",
       "       -1.        , -1.        , -1.        ,  3.26130766, -1.        ,\n",
       "       -1.        , -1.        , -1.        , -1.        , -1.        ,\n",
       "       -1.        ,  3.26130766, -1.        , -1.        , -1.        ,\n",
       "       -1.        ,  3.26130766, -1.        , -1.        , -1.        ,\n",
       "       -1.        , -1.        ,  3.26130766, -1.        , -1.        ,\n",
       "       -1.        , -1.        , -1.        , -1.        , -1.        ,\n",
       "       -1.        , -1.        , -1.        , -1.        , -1.        ,\n",
       "       -1.        , -1.        , -1.        , -1.        ,  3.26130766,\n",
       "       -1.        , -1.        , -1.        , -1.        , -1.        ,\n",
       "        3.26130766, -1.        , -1.        , -1.        , -1.        ,\n",
       "       -1.        , -1.        , -1.        , -1.        , -1.        ,\n",
       "       -1.        , -1.        , -1.        , -1.        , -1.        ,\n",
       "        3.26130766, -1.        , -1.        , -1.        , -1.        ,\n",
       "       -1.        , -1.        , -1.        ,  3.26130766, -1.        ,\n",
       "       -1.        , -1.        , -1.        , -1.        , -1.        ,\n",
       "       -1.        ,  3.26130766,  3.26130766,  3.26130766, -1.        ,\n",
       "       -1.        , -1.        , -1.        , -1.        , -1.        ,\n",
       "       -1.        , -1.        ,  3.26130766, -1.        , -1.        ,\n",
       "       -1.        , -1.        , -1.        , -1.        ,  3.26130766,\n",
       "       -1.        , -1.        , -1.        , -1.        , -1.        ,\n",
       "       -1.        , -1.        , -1.        , -1.        , -1.        ,\n",
       "       -1.        , -1.        , -1.        ,  3.26130766, -1.        ,\n",
       "       -1.        ,  3.26130766,  3.26130766, -1.        , -1.        ,\n",
       "       -1.        , -1.        ,  3.26130766, -1.        , -1.        ,\n",
       "        3.26130766, -1.        , -1.        , -1.        , -1.        ,\n",
       "        3.26130766, -1.        , -1.        , -1.        , -1.        ,\n",
       "        3.26130766, -1.        , -1.        , -1.        , -1.        ,\n",
       "       -1.        , -1.        , -1.        , -1.        , -1.        ,\n",
       "       -1.        , -1.        , -1.        , -1.        , -1.        ,\n",
       "       -1.        , -1.        , -1.        ,  3.26130766, -1.        ,\n",
       "       -1.        ,  3.26130766, -1.        , -1.        , -1.        ,\n",
       "       -1.        , -1.        , -1.        , -1.        , -1.        ,\n",
       "       -1.        , -1.        , -1.        , -1.        , -1.        ,\n",
       "       -1.        , -1.        , -1.        , -1.        ,  3.26130766,\n",
       "       -1.        , -1.        , -1.        , -1.        , -1.        ,\n",
       "       -1.        ,  3.26130766,  3.26130766, -1.        , -1.        ,\n",
       "       -1.        , -1.        , -1.        , -1.        , -1.        ,\n",
       "       -1.        , -1.        , -1.        , -1.        , -1.        ,\n",
       "       -1.        , -1.        , -1.        , -1.        ,  3.26130766,\n",
       "       -1.        , -1.        , -1.        , -1.        , -1.        ,\n",
       "        3.26130766, -1.        , -1.        ,  3.26130766,  3.26130766,\n",
       "        3.26130766, -1.        , -1.        , -1.        , -1.        ,\n",
       "       -1.        , -1.        ,  3.26130766, -1.        , -1.        ,\n",
       "       -1.        , -1.        ,  3.26130766, -1.        , -1.        ,\n",
       "       -1.        , -1.        ,  3.26130766, -1.        , -1.        ,\n",
       "       -1.        , -1.        , -1.        , -1.        , -1.        ,\n",
       "       -1.        , -1.        , -1.        ,  3.26130766, -1.        ,\n",
       "        3.26130766, -1.        , -1.        , -1.        , -1.        ,\n",
       "        3.26130766, -1.        , -1.        , -1.        , -1.        ,\n",
       "        3.26130766, -1.        , -1.        , -1.        , -1.        ,\n",
       "        3.26130766, -1.        , -1.        , -1.        , -1.        ,\n",
       "       -1.        ,  3.26130766, -1.        , -1.        , -1.        ,\n",
       "       -1.        , -1.        , -1.        ,  3.26130766, -1.        ,\n",
       "       -1.        , -1.        ,  3.26130766, -1.        , -1.        ,\n",
       "       -1.        , -1.        , -1.        , -1.        , -1.        ,\n",
       "       -1.        , -1.        , -1.        ,  3.26130766, -1.        ,\n",
       "        3.26130766, -1.        ,  3.26130766, -1.        , -1.        ,\n",
       "       -1.        , -1.        , -1.        ,  3.26130766, -1.        ,\n",
       "       -1.        , -1.        , -1.        , -1.        , -1.        ,\n",
       "       -1.        ,  3.26130766, -1.        , -1.        , -1.        ,\n",
       "        3.26130766, -1.        , -1.        , -1.        , -1.        ,\n",
       "       -1.        , -1.        , -1.        , -1.        , -1.        ,\n",
       "       -1.        , -1.        , -1.        , -1.        , -1.        ,\n",
       "       -1.        , -1.        , -1.        , -1.        , -1.        ,\n",
       "       -1.        , -1.        , -1.        ,  3.26130766, -1.        ,\n",
       "        3.26130766, -1.        , -1.        , -1.        ,  3.26130766,\n",
       "       -1.        , -1.        , -1.        , -1.        , -1.        ,\n",
       "       -1.        , -1.        , -1.        , -1.        , -1.        ,\n",
       "        3.26130766, -1.        , -1.        , -1.        , -1.        ,\n",
       "       -1.        , -1.        , -1.        , -1.        , -1.        ,\n",
       "       -1.        , -1.        ,  3.26130766, -1.        , -1.        ,\n",
       "       -1.        , -1.        , -1.        , -1.        , -1.        ,\n",
       "       -1.        , -1.        , -1.        , -1.        , -1.        ,\n",
       "       -1.        , -1.        , -1.        , -1.        , -1.        ,\n",
       "       -1.        ,  3.26130766, -1.        , -1.        , -1.        ,\n",
       "       -1.        , -1.        , -1.        , -1.        , -1.        ,\n",
       "       -1.        , -1.        , -1.        , -1.        ,  3.26130766,\n",
       "       -1.        , -1.        , -1.        ,  3.26130766, -1.        ,\n",
       "       -1.        , -1.        , -1.        , -1.        , -1.        ,\n",
       "       -1.        , -1.        , -1.        , -1.        , -1.        ,\n",
       "       -1.        , -1.        , -1.        , -1.        , -1.        ,\n",
       "       -1.        , -1.        , -1.        , -1.        , -1.        ,\n",
       "        3.26130766, -1.        ,  3.26130766, -1.        , -1.        ,\n",
       "       -1.        , -1.        , -1.        , -1.        , -1.        ,\n",
       "       -1.        , -1.        , -1.        , -1.        , -1.        ,\n",
       "       -1.        , -1.        , -1.        , -1.        , -1.        ,\n",
       "       -1.        , -1.        , -1.        , -1.        , -1.        ,\n",
       "       -1.        , -1.        , -1.        , -1.        , -1.        ,\n",
       "       -1.        , -1.        , -1.        ,  3.26130766,  3.26130766,\n",
       "       -1.        , -1.        ,  3.26130766, -1.        , -1.        ,\n",
       "       -1.        , -1.        , -1.        , -1.        , -1.        ,\n",
       "       -1.        , -1.        , -1.        , -1.        ,  3.26130766,\n",
       "       -1.        , -1.        , -1.        , -1.        , -1.        ,\n",
       "       -1.        , -1.        ,  3.26130766, -1.        ,  3.26130766,\n",
       "       -1.        , -1.        , -1.        , -1.        , -1.        ,\n",
       "       -1.        , -1.        , -1.        , -1.        , -1.        ,\n",
       "       -1.        , -1.        , -1.        ,  3.26130766, -1.        ,\n",
       "       -1.        ,  3.26130766, -1.        , -1.        , -1.        ,\n",
       "       -1.        , -1.        , -1.        , -1.        ,  3.26130766,\n",
       "       -1.        , -1.        , -1.        , -1.        , -1.        ,\n",
       "       -1.        ,  3.26130766, -1.        ,  3.26130766,  3.26130766,\n",
       "        3.26130766, -1.        , -1.        , -1.        , -1.        ,\n",
       "       -1.        , -1.        , -1.        ,  3.26130766, -1.        ,\n",
       "       -1.        , -1.        ,  3.26130766, -1.        , -1.        ,\n",
       "       -1.        , -1.        ,  3.26130766, -1.        ,  3.26130766,\n",
       "       -1.        , -1.        , -1.        , -1.        , -1.        ,\n",
       "       -1.        , -1.        , -1.        , -1.        , -1.        ,\n",
       "       -1.        , -1.        , -1.        ,  3.26130766, -1.        ,\n",
       "       -1.        , -1.        , -1.        , -1.        , -1.        ,\n",
       "        3.26130766, -1.        ,  3.26130766,  3.26130766, -1.        ,\n",
       "       -1.        , -1.        , -1.        , -1.        , -1.        ,\n",
       "       -1.        , -1.        , -1.        , -1.        , -1.        ,\n",
       "       -1.        , -1.        , -1.        , -1.        , -1.        ,\n",
       "       -1.        ,  3.26130766, -1.        , -1.        , -1.        ,\n",
       "       -1.        , -1.        , -1.        , -1.        , -1.        ,\n",
       "       -1.        , -1.        , -1.        , -1.        , -1.        ,\n",
       "       -1.        ,  3.26130766, -1.        ,  3.26130766, -1.        ,\n",
       "       -1.        , -1.        , -1.        , -1.        ,  3.26130766,\n",
       "       -1.        , -1.        , -1.        , -1.        ,  3.26130766,\n",
       "       -1.        , -1.        , -1.        , -1.        , -1.        ,\n",
       "       -1.        , -1.        , -1.        , -1.        , -1.        ,\n",
       "       -1.        , -1.        , -1.        , -1.        , -1.        ,\n",
       "       -1.        , -1.        ,  3.26130766, -1.        ,  3.26130766,\n",
       "       -1.        , -1.        , -1.        , -1.        , -1.        ,\n",
       "        3.26130766, -1.        ,  3.26130766,  3.26130766, -1.        ,\n",
       "       -1.        , -1.        , -1.        , -1.        , -1.        ,\n",
       "       -1.        , -1.        ,  3.26130766, -1.        , -1.        ,\n",
       "        3.26130766, -1.        , -1.        , -1.        , -1.        ,\n",
       "       -1.        , -1.        , -1.        , -1.        , -1.        ,\n",
       "       -1.        , -1.        , -1.        , -1.        ,  3.26130766,\n",
       "       -1.        , -1.        ,  3.26130766, -1.        , -1.        ,\n",
       "       -1.        , -1.        , -1.        , -1.        ,  3.26130766,\n",
       "       -1.        , -1.        , -1.        , -1.        , -1.        ,\n",
       "       -1.        , -1.        , -1.        ,  3.26130766, -1.        ,\n",
       "       -1.        , -1.        , -1.        , -1.        , -1.        ,\n",
       "       -1.        , -1.        , -1.        , -1.        , -1.        ,\n",
       "       -1.        , -1.        , -1.        ,  3.26130766, -1.        ,\n",
       "       -1.        ,  3.26130766, -1.        , -1.        , -1.        ,\n",
       "       -1.        , -1.        , -1.        , -1.        , -1.        ,\n",
       "       -1.        , -1.        , -1.        , -1.        , -1.        ,\n",
       "       -1.        , -1.        , -1.        , -1.        , -1.        ,\n",
       "       -1.        , -1.        , -1.        , -1.        , -1.        ,\n",
       "       -1.        , -1.        , -1.        , -1.        ,  3.26130766,\n",
       "       -1.        , -1.        , -1.        ,  3.26130766, -1.        ,\n",
       "       -1.        ,  3.26130766,  3.26130766, -1.        ])"
      ]
     },
     "execution_count": 67,
     "metadata": {},
     "output_type": "execute_result"
    }
   ],
   "source": [
    "model.fit(x_train,y_train)\n",
    "model.predict(x_test)"
   ]
  },
  {
   "cell_type": "code",
   "execution_count": 68,
   "metadata": {},
   "outputs": [
    {
     "data": {
      "text/plain": [
       "gender              1.0\n",
       "height            166.0\n",
       "is_habit_drink      0.0\n",
       "is_habit_smoke      0.0\n",
       "is_verified         0.0\n",
       "who_to_date         1.0\n",
       "is_subscribed       0.0\n",
       "age                23.0\n",
       "Name: 107, dtype: float64"
      ]
     },
     "execution_count": 68,
     "metadata": {},
     "output_type": "execute_result"
    }
   ],
   "source": [
    "x_train.iloc[0]"
   ]
  },
  {
   "cell_type": "code",
   "execution_count": 69,
   "metadata": {},
   "outputs": [
    {
     "data": {
      "text/plain": [
       "-1.0"
      ]
     },
     "execution_count": 69,
     "metadata": {},
     "output_type": "execute_result"
    }
   ],
   "source": [
    "y_train.iloc[0]"
   ]
  },
  {
   "cell_type": "code",
   "execution_count": 70,
   "metadata": {},
   "outputs": [
    {
     "name": "stderr",
     "output_type": "stream",
     "text": [
      "c:\\Users\\Mihir\\AppData\\Local\\Programs\\Python\\Python310\\lib\\site-packages\\sklearn\\base.py:450: UserWarning: X does not have valid feature names, but DecisionTreeRegressor was fitted with feature names\n",
      "  warnings.warn(\n"
     ]
    }
   ],
   "source": [
    "res = model.predict([[1.000000,166.000000,0.000000,0.000000,0.000000,1.000000,0.000000,23.000000]])"
   ]
  },
  {
   "cell_type": "code",
   "execution_count": 71,
   "metadata": {},
   "outputs": [
    {
     "data": {
      "text/plain": [
       "-1.0"
      ]
     },
     "execution_count": 71,
     "metadata": {},
     "output_type": "execute_result"
    }
   ],
   "source": [
    "res[0]"
   ]
  },
  {
   "cell_type": "code",
   "execution_count": 72,
   "metadata": {},
   "outputs": [
    {
     "name": "stdout",
     "output_type": "stream",
     "text": [
      "     _id                                                bio  \\\n",
      "702  702                                           Hiiiiiii   \n",
      "933  933                                                 -1   \n",
      "932  932  Most of the people will say the same thing but...   \n",
      "931  931  I'm mostly and introverted judging asshole but...   \n",
      "930  930  I m pursuing botany Hons from Miranda house co...   \n",
      "929  929  EX-Venkite🎓\\r\\nWell Settled Businessman🔰\\r\\nDe...   \n",
      "928  928  Musicophile , someone who loves music and sing...   \n",
      "927  927                                                 Du   \n",
      "926  926               I am someone between calm and chaos.   \n",
      "925  925  Love travelling and hangout with friends, a le...   \n",
      "\n",
      "                                            college country   createdAt  \\\n",
      "702                 [\"Jawaharlal Nehru University\"]      IN  545.327876   \n",
      "933                                              []      IN  455.937085   \n",
      "932                                         [\"JNU\"]      IN  455.948148   \n",
      "931                              [\"Ramjas College\"]      IN  456.330669   \n",
      "930                               [\"Miranda house\"]      IN  456.366081   \n",
      "929                    [\"Sri Venkateswara College\"]      IN  456.387666   \n",
      "928                                   [\"FMS DELHI\"]      IN  456.439752   \n",
      "927                       [\"Motilal Nehru College\"]      IN  456.488926   \n",
      "926                        [\"Mata sundari college\"]      IN  456.706683   \n",
      "925  [\"Indian Institute of Technology(IIT), Delhi\"]      IN  456.727579   \n",
      "\n",
      "                     dob                 email  \\\n",
      "702  1995-03-04 00:00:00  9702000000@get.idyll   \n",
      "933                   -1  9933000000@get.idyll   \n",
      "932  2000-05-05 00:00:00  9932000000@get.idyll   \n",
      "931  2003-03-30 00:00:00  9931000000@get.idyll   \n",
      "930  2003-10-22 00:00:00  9930000000@get.idyll   \n",
      "929  1999-07-19 00:00:00  9929000000@get.idyll   \n",
      "928  1997-05-31 00:00:00  9928000000@get.idyll   \n",
      "927  2001-10-30 00:00:00  9927000000@get.idyll   \n",
      "926  2001-06-21 00:00:00  9926000000@get.idyll   \n",
      "925  2004-02-16 00:00:00  9925000000@get.idyll   \n",
      "\n",
      "                          face_detection_probabilities  gender  height  ...  \\\n",
      "702                                                 -1       1   180.0  ...   \n",
      "933                                                 []       3    -1.0  ...   \n",
      "932  [95.22808194160461,93.5075581073761,95.0503110...       1    -1.0  ...   \n",
      "931  [95.82037329673767,49.709731340408325,96.04871...       1    -1.0  ...   \n",
      "930                                [92.24200248718262]       0    -1.0  ...   \n",
      "929                                                 []       1    -1.0  ...   \n",
      "928  [84.22643542289734,49.188774824142456,74.78739...       1   183.0  ...   \n",
      "927                                                 []       0    -1.0  ...   \n",
      "926                                [91.59027338027954]       0    -1.0  ...   \n",
      "925  [92.21519827842712,86.39684915542603,77.730774...       1    -1.0  ...   \n",
      "\n",
      "     type  updatedAt  verified_at  what_to_find  who_to_date  is_subscribed  \\\n",
      "702     U  22.718323    -1.000000             C            1              1   \n",
      "933     U  18.997380    -1.000000            -1            4              1   \n",
      "932     U  18.943950    -1.000000            NS            1              1   \n",
      "931     U   6.458203     6.458203            -1            1              1   \n",
      "930     U  19.011783    -1.000000            -1            2              0   \n",
      "929     U  19.011277    -1.000000            -1            1              1   \n",
      "928     U  18.820335    -1.000000            -1            1              1   \n",
      "927     U   4.529457    -1.000000            -1            1              0   \n",
      "926     U  19.024689    -1.000000            -1            2              0   \n",
      "925     U   6.458614     6.458614            -1            1              1   \n",
      "\n",
      "      age  liked_counts disliked_counts  Score  \n",
      "702  28.0           2.0            12.0   -1.0  \n",
      "933  -1.0          -1.0            -1.0   -1.0  \n",
      "932  23.0           2.0            20.0   -1.0  \n",
      "931  20.0           3.0            25.0   -1.0  \n",
      "930  20.0         107.0           108.0   -1.0  \n",
      "929  24.0           1.0            -1.0   -1.0  \n",
      "928  26.0           4.0             9.0   -1.0  \n",
      "927  22.0          -1.0            -1.0   -1.0  \n",
      "926  22.0         116.0            96.0   -1.0  \n",
      "925  19.0           8.0            19.0   -1.0  \n",
      "\n",
      "[10 rows x 28 columns]\n"
     ]
    }
   ],
   "source": [
    "target_score = res[0]\n",
    "\n",
    "# calculate the difference between the score column and target_score\n",
    "df['score_diff'] = abs(df['Score'] - target_score)\n",
    "\n",
    "# sort the DataFrame based on the score difference\n",
    "df_sorted = df.sort_values(by='score_diff')\n",
    "\n",
    "# get the top 10 rows where score is close to target_score\n",
    "result = df_sorted.head(10)\n",
    "\n",
    "# drop the score_diff column from the result\n",
    "result = result.drop(columns='score_diff')\n",
    "\n",
    "# print the result\n",
    "print(result)"
   ]
  },
  {
   "cell_type": "code",
   "execution_count": 73,
   "metadata": {},
   "outputs": [
    {
     "data": {
      "text/plain": [
       "702   -1.0\n",
       "933   -1.0\n",
       "932   -1.0\n",
       "931   -1.0\n",
       "930   -1.0\n",
       "929   -1.0\n",
       "928   -1.0\n",
       "927   -1.0\n",
       "926   -1.0\n",
       "925   -1.0\n",
       "Name: Score, dtype: float64"
      ]
     },
     "execution_count": 73,
     "metadata": {},
     "output_type": "execute_result"
    }
   ],
   "source": [
    "result['Score']"
   ]
  },
  {
   "cell_type": "code",
   "execution_count": 74,
   "metadata": {},
   "outputs": [
    {
     "data": {
      "text/plain": [
       "702   -1.0\n",
       "933   -1.0\n",
       "932   -1.0\n",
       "931   -1.0\n",
       "930   -1.0\n",
       "929   -1.0\n",
       "928   -1.0\n",
       "927   -1.0\n",
       "926   -1.0\n",
       "925   -1.0\n",
       "Name: Score, dtype: float64"
      ]
     },
     "execution_count": 74,
     "metadata": {},
     "output_type": "execute_result"
    }
   ],
   "source": [
    "result['Score'].sort_values()"
   ]
  },
  {
   "cell_type": "code",
   "execution_count": 75,
   "metadata": {},
   "outputs": [
    {
     "data": {
      "text/plain": [
       "0.17599645169529265"
      ]
     },
     "execution_count": 75,
     "metadata": {},
     "output_type": "execute_result"
    }
   ],
   "source": [
    "model.score(x_train, y_train)"
   ]
  },
  {
   "cell_type": "code",
   "execution_count": 76,
   "metadata": {},
   "outputs": [
    {
     "data": {
      "text/plain": [
       "-1.0"
      ]
     },
     "execution_count": 76,
     "metadata": {},
     "output_type": "execute_result"
    }
   ],
   "source": [
    "df['Score'].min()"
   ]
  },
  {
   "cell_type": "code",
   "execution_count": 77,
   "metadata": {},
   "outputs": [
    {
     "data": {
      "text/plain": [
       "24.942857142857143"
      ]
     },
     "execution_count": 77,
     "metadata": {},
     "output_type": "execute_result"
    }
   ],
   "source": [
    "df['Score'].max()"
   ]
  }
 ],
 "metadata": {
  "kernelspec": {
   "display_name": "Python 3",
   "language": "python",
   "name": "python3"
  },
  "language_info": {
   "codemirror_mode": {
    "name": "ipython",
    "version": 3
   },
   "file_extension": ".py",
   "mimetype": "text/x-python",
   "name": "python",
   "nbconvert_exporter": "python",
   "pygments_lexer": "ipython3",
   "version": "3.10.5"
  },
  "orig_nbformat": 4
 },
 "nbformat": 4,
 "nbformat_minor": 2
}
